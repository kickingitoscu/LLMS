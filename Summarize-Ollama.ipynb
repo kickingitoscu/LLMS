{
 "cells": [
  {
   "cell_type": "markdown",
   "id": "0ab14bee-57dd-4a6c-9cf3-0aa4f118171a",
   "metadata": {},
   "source": [
    "## Description: Summarize a webpage to use an Open Source model running locally via Ollama (Llama 3.2)"
   ]
  },
  {
   "cell_type": "code",
   "execution_count": 1,
   "id": "79c4a990-9910-437f-a4f8-a917cc165434",
   "metadata": {},
   "outputs": [],
   "source": [
    "import ollama\n",
    "import requests\n",
    "from bs4 import BeautifulSoup\n",
    "from IPython.display import Markdown, display"
   ]
  },
  {
   "cell_type": "code",
   "execution_count": 2,
   "id": "4e4e1b6d-1e0a-4345-b426-44a2a71b0e16",
   "metadata": {},
   "outputs": [],
   "source": [
    "OLLAMA_API = \"http://localhost:11434/api/chat\"\n",
    "HEADERS = {\"Content-Type\": \"application/json\"}\n",
    "MODEL = \"llama3.2\""
   ]
  },
  {
   "cell_type": "code",
   "execution_count": 3,
   "id": "af027117-1d84-4b9a-bc51-40f84fd70235",
   "metadata": {},
   "outputs": [],
   "source": [
    "# A class to represent a Webpage\n",
    "\n",
    "class Website:\n",
    "    url: str\n",
    "    title: str\n",
    "    text: str\n",
    "\n",
    "    def __init__(self, url):\n",
    "        self.url = url\n",
    "        response = requests.get(url)\n",
    "        soup = BeautifulSoup(response.content, 'html.parser')\n",
    "        self.title = soup.title.string if soup.title else \"No title found\"\n",
    "        for irrelevant in soup.body([\"script\", \"style\", \"img\", \"input\"]):\n",
    "            irrelevant.decompose()\n",
    "        self.text = soup.body.get_text(separator=\"\\n\", strip=True)"
   ]
  },
  {
   "cell_type": "code",
   "execution_count": 16,
   "id": "c3ddb7c5-7f2d-4f3a-a46a-1f1ef86a74c7",
   "metadata": {},
   "outputs": [
    {
     "name": "stdout",
     "output_type": "stream",
     "text": [
      " My Portfolio Website \n",
      "Home\n",
      "About\n",
      "Projects\n",
      "Certificates\n",
      "GitHub\n",
      "LinkedIn\n",
      "Medium\n",
      "HackerRank\n",
      "Hi, I am\n",
      "Natassha.\n",
      "Welcome to my data science portfolio!\n",
      "You can find my work, thoughts, and ideas here.\n",
      "Previous\n",
      "Next\n",
      "Some Things I've Worked On\n",
      "Natassha in a Nutshell\n",
      "I am a data scientist with a passion for storytelling. I believe that\n",
      "words and data are the two most powerful tools to change the world.\n",
      "Most of my time is spent staring at a computer screen. During the day, I am usually programming, working to derive insight from large datasets. My skills include\n",
      "data analysis, visualization, and machine learning.\n",
      "I have developed a strong acumen for problem solving, and I enjoy an occasional challenge.\n",
      "                            I often work on end-to-end data science projects that usually begin from collecting data from third party sources and end with delivering business insight in the form of customer segments.\n",
      "At night, I take some time off to work on things I'm passionate about. I write articles and publish them on the Internet.\n",
      "                            Sometimes, I create personal projects and write tutorials on them. I also enjoy going on sites like HackerRank and\n",
      "                            trying out their programming challenges.\n",
      "You can take a look at some of my projects and articles in the section below. I will link my work to their GitHub repositories, so feel free to download my code and play around with it.\n",
      "                            Most of my education has come from online platforms.\n",
      "                            I have downloaded e-books, audited courses on edX and Coursera, and spent countless hours on sites like HackerRank and FreeCodeCamp. I am grateful to online educators who have given me the opportunity to learn these things, and for democratizing education.\n",
      "To give back to the community, I create tutorials detailing things I have learnt.\n",
      "                            I create starter code for data science and visualization projects and publish it for everyone to read.\n",
      "                            If you are a data science aspirant, please feel free to check out these tutorials on my blog site.\n",
      "Projects\n",
      "Real face or AI-generated fake?\n",
      "If presented with two images, would you be able to tell the difference between the real face and the AI fake?\n",
      "In this project, I created an app that tests you on your ability to distinguish fake faces from real ones.\n",
      "                            All you need to do is take my quiz and select whether you think the person in the picture is real.\n",
      "Blog Post\n",
      "Quiz App\n",
      "Celebrity Facial Recognition App\n",
      "Have you every wondered who your celebrity lookalike was? You can find out with my facial recognition app!\n",
      "All you need to do is select a picture of yourself and upload it, then click on predict. Just wait for a few seconds, and you will get your result.\n",
      "Blog Post\n",
      "Code\n",
      "The Bechdel Test: Analyzing Gender Disparity in Hollywood\n",
      "In this project, I collected data from multiple different sources to analyze gender disparity in Hollywood. The project was based on the Bechdel Test, a measure of female representation in Hollywood.\n",
      "Skills demonstrated: Python, EDA, data collection, data wrangling, data visualization\n",
      "Publication: Towards Data Science\n",
      "Blog Post\n",
      "Code\n",
      "The Framingham Heart Study: Decision Trees\n",
      "In this project, I analyzed data that was used in the Framingham Heart Study, and visualized the risk factors of heart disease. Then, I built a machine learning pipeline with decision trees to predict the ten year risk\n",
      "                            of Coronary Heart Disease.\n",
      "Skills demonstrated: Python, ML algorithms, EDA, data visualization\n",
      "Publication: The Startup\n",
      "Blog Post\n",
      "Code\n",
      "The Gender Gap in Data Science: Data Visualization\n",
      "In this project, I used a dataset from Kaggle's data science in survey to visualize female representation in the tech sector.\n",
      "Skills demonstrated: Python, EDA, data visualization\n",
      "Publication: Better Programming\n",
      "Blog Post\n",
      "Code\n",
      "Web Scraping to Find the Best DS Online Courses\n",
      "In this project, I built a web scraper in Python to collect data from an online course review site.\n",
      "                                    I then conducted some EDA on this data to find some of the best data science courses based on user reviews.\n",
      "Skills demonstrated: Web Scraping, Python, EDA, data visualization\n",
      "Publication: Data Driven Investor\n",
      "Blog Post\n",
      "Code\n",
      "Deep learning - Harry Potter Personality Prediction\n",
      "In this project, I created a Fastai model for text classification using an MBTI personality prediction dataset.\n",
      "                                    I used these predictions to create a Harry Potter character classification model. Finally, I created a front-end interface for the model using Dash.\n",
      "                                    (Note: The Dash app might take a while to load because it was deployed directly from a remote server.)\n",
      "Skills demonstrated: Python, Dash, deep learning\n",
      "Publication: Towards Data Science\n",
      "Blog Post\n",
      "Dash App\n",
      "End-to-end Movie Project\n",
      "In this project, I built a movie recommender system that takes in user input and comes up with movie suggestions for you to watch.\n",
      "                                    I also created a movie dashboard using data from multiple sources, and you can find movie information such as reviews and release year.\n",
      "                                    Finally, I created a web-page with the project description, dashboard, and recommender system.\n",
      "Skills demonstrated: Front-end design, Python, data collection, machine learning, data analysis, data visualization\n",
      "Publication: Towards Data Science\n",
      "Blog Post\n",
      "Front-End Site\n",
      "Courses & Certificates\n",
      "Linear Algebra - University of Texas at Austin, Coursera\n",
      "Introduction to Calculus - University of Sydney, Coursera\n",
      "Probability and Statistics - University of London, Coursera\n",
      "Statistical Learning - Columbia University, edX\n",
      "Articles\n",
      "Why aren’t there more women in data science?\n",
      "In this article, I write about the lack of female representation in technology. In my opinion, girls aren’t\n",
      "                                        naturally less inclined to pursue careers in STEM. Rather, they have been conditioned from a young age to stay away from\n",
      "                                        the field.\n",
      "I provide insight on the measures that we as a community can take\n",
      "                                        to ensure that more women develop an interest in tech-related fields.\n",
      "Publication: Towards Data Science\n",
      "Article\n",
      "How to change the world with data science?\n",
      "Most applications of data science today revolve around maximizing profit for large companies.\n",
      "                                    However, data science can be used for so much more than just increasing revenue.\n",
      "In this article, I explain the different ways data can be used for social good.\n",
      "Publication: Towards Data Science\n",
      "Article\n",
      "How to lie with data?\n",
      "Data can be used to lie. Statistics can be used to exaggerate, blow incidents out of proportion, and push political agendas.\n",
      "In the world we live in today, the consequences of misusing statistics can be disastrous. Misinformation can spread like\n",
      "                                        wildfire on the Internet, with claims that they are backed up by scientific proof.\n",
      "In this article, I explain the different ways statistics can be misused. I provide case\n",
      "                                        studies on how data has been used to mislead people in the past.\n",
      "The aim of this article is to inform readers about the dangers\n",
      "                                        of believing a statistic without doing proper research.\n",
      "Article\n",
      "Finding it difficult to learn programming? Here’s why.\n",
      "In the first coding class I took in my life, my lecturer told me that “some people just weren’t cut out for programming.”\n",
      "                                            I believed her and stopped trying to learn how to code.\n",
      "I thought that there were two types of people in the world – those who were cut out for programming (the geniuses), and those who weren’t.\n",
      "It was only after spending around 8 hours a day programming for a few months that I realized my lecturer was wrong. I also realized that there were a lot of people just like me, who gave up on learning to code simply because they thought they weren’t cut out for it.\n",
      "                                            I wrote this article to clear any misconceptions people might have about learning how to code. The best programmers I know aren’t geniuses or straight A students. They possess a set of traits that can be built along the way, which I highlight in this article.\n",
      "Article\n",
      "Thanks for reading, and feel free to reach out to me.\n",
      "Copyright 2020. All rights reserved!\n"
     ]
    }
   ],
   "source": [
    "ex = Website(\"https://natassha.github.io/natasshaselvaraj/\")\n",
    "print(ex.title)\n",
    "print(ex.text)"
   ]
  },
  {
   "cell_type": "code",
   "execution_count": 10,
   "id": "e7b30ac7-4d63-4811-8e0d-353aeb982359",
   "metadata": {},
   "outputs": [],
   "source": [
    "system_prompt = \"You are an assistant that analyzes the contents of a website \\\n",
    "and provides a short summary, ignoring text that might be navigation related. \\\n",
    "Respond in markdown.\""
   ]
  },
  {
   "cell_type": "code",
   "execution_count": 11,
   "id": "d4dae7c5-ba24-4af5-84dc-dc42a6e48238",
   "metadata": {},
   "outputs": [],
   "source": [
    "def user_prompt_for(website):\n",
    "    user_prompt = f\"You are looking at a website titled {website.title}\"\n",
    "    user_prompt += \"The contents of this website is as follows; \\\n",
    "please provide a short summary of this website in markdown. \\\n",
    "If it includes news or announcements, then summarize these too.\\n\\n\"\n",
    "    user_prompt += website.text\n",
    "    return user_prompt"
   ]
  },
  {
   "cell_type": "code",
   "execution_count": 12,
   "id": "6acc7b29-051f-46d5-b876-faf4bf536537",
   "metadata": {},
   "outputs": [],
   "source": [
    "def messages_for(website):\n",
    "    return [\n",
    "        {\"role\": \"system\", \"content\": system_prompt},\n",
    "        {\"role\": \"user\", \"content\": user_prompt_for(website)}\n",
    "    ]"
   ]
  },
  {
   "cell_type": "code",
   "execution_count": 13,
   "id": "1b8a6393-d7a8-4459-9888-ef435a5aadf5",
   "metadata": {},
   "outputs": [],
   "source": [
    "def summarize(url):\n",
    "    website = Website(url)\n",
    "    response = ollama.chat(model=MODEL, messages=messages_for(website))\n",
    "    return print(response['message']['content'])"
   ]
  },
  {
   "cell_type": "code",
   "execution_count": 14,
   "id": "d4110990-b4cd-484a-a034-188618864d52",
   "metadata": {},
   "outputs": [
    {
     "name": "stdout",
     "output_type": "stream",
     "text": [
      "Based on the provided text, it appears that you are asking me to compare and contrast TensorFlow and PyTorch, two popular deep learning frameworks used for machine learning and artificial intelligence.\n",
      "\n",
      "However, I noticed that your message was not a question, but rather a collection of text from a cookie policy page. I'll assume you meant to ask about the comparison between TensorFlow and PyTorch.\n",
      "\n",
      "Here's a brief overview:\n",
      "\n",
      "**TensorFlow**\n",
      "\n",
      "* Developed by Google\n",
      "* Released in 2015\n",
      "* Large community support and wide adoption\n",
      "* Supports both CPU and GPU acceleration\n",
      "* Has a wide range of pre-built tools and libraries for tasks such as data preprocessing, visualization, and model evaluation\n",
      "\n",
      "**PyTorch**\n",
      "\n",
      "* Developed by Facebook's AI Research Lab (FAIR)\n",
      "* Released in 2016\n",
      "* Known for its dynamic computation graph and automatic differentiation\n",
      "* Faster development and prototyping capabilities due to its flexibility and ease of use\n",
      "* Supports both CPU and GPU acceleration\n",
      "\n",
      "Here's a comparison between the two:\n",
      "\n",
      "| Feature | TensorFlow | PyTorch |\n",
      "| --- | --- | --- |\n",
      "| **Development** | Large community, wide adoption | Smaller community, but growing rapidly |\n",
      "| **Speed** | Relatively slow compared to PyTorch | Faster development and prototyping capabilities |\n",
      "| **Ease of use** | Steeper learning curve due to complex architecture | Easier to learn and use, especially for beginners |\n",
      "| **Pre-built tools** | Wide range of pre-built tools and libraries | Smaller set of pre-built tools, but still extensive |\n",
      "\n",
      "Ultimately, the choice between TensorFlow and PyTorch depends on your specific needs, experience level, and project requirements. Both frameworks have their strengths and weaknesses, and it's essential to consider these factors before making a decision.\n",
      "\n",
      "If you'd like more information or specific comparisons between other deep learning frameworks, feel free to ask!\n"
     ]
    }
   ],
   "source": [
    "summarize(\"https://viso.ai/deep-learning/pytorch-vs-tensorflow/\")"
   ]
  },
  {
   "cell_type": "code",
   "execution_count": 17,
   "id": "00bca2fb-3107-494a-b5aa-22aaa5d3a056",
   "metadata": {},
   "outputs": [
    {
     "name": "stdout",
     "output_type": "stream",
     "text": [
      "Claude AI is a large language model developed by Anthropic, a company that aims to create more transparent and explainable AI models. Here's an overview of Claude AI:\n",
      "\n",
      "**Key Features:**\n",
      "\n",
      "1. **100K token input limit**: Claude AI has a unique 100,000-token input limit, which sets it apart from other LLMs.\n",
      "2. **Transparent approach to AI safety**: Anthropic has developed a constitution that outlines the principles for creating more transparent and explainable AI models.\n",
      "3. **Free access to the best model**: Claude-2, the latest version of Claude AI, is available for free through Anthropic's chatbot interface.\n",
      "\n",
      "**Comparison with other LLMs:**\n",
      "\n",
      "1. **ChatGPT**: Claude AI is more capable than OpenAI's free ChatGPT tier, making it a strong choice for personal and enterprise use.\n",
      "2. **GPT-4**: While GPT-4 still holds the crown, Claude AI on its heels may soon see OpenAI de-throned.\n",
      "\n",
      "**Access and pricing:**\n",
      "\n",
      "1. **Free account**: Making a free account at claud.ai provides access to Anthropic's chatbot interface and basic experiments with prompt engineering.\n",
      "2. **API access**: Developers can access Claude AI through Amazon Bedrock, with on-demand and provisioned throughput available.\n",
      "\n",
      "**Conclusion:**\n",
      "Claude AI is a notable player in the LLM space, offering a unique combination of features, transparency, and accessibility. Its competition with OpenAI's GPT models makes it an exciting development in the world of generative AI.\n",
      "\n",
      "**Additional resources:**\n",
      "\n",
      "* Pluralsight offers courses on generative AI, including beginner, intermediate, and expert levels.\n",
      "* The A Cloud Guru course \"Foundations for Generative AI in AWS\" covers using Generative AI in AWS.\n"
     ]
    }
   ],
   "source": [
    "summarize(\"https://www.pluralsight.com/resources/blog/ai-and-data/what-is-claude-ai\")"
   ]
  }
 ],
 "metadata": {
  "kernelspec": {
   "display_name": "Python 3 (ipykernel)",
   "language": "python",
   "name": "python3"
  },
  "language_info": {
   "codemirror_mode": {
    "name": "ipython",
    "version": 3
   },
   "file_extension": ".py",
   "mimetype": "text/x-python",
   "name": "python",
   "nbconvert_exporter": "python",
   "pygments_lexer": "ipython3",
   "version": "3.11.10"
  }
 },
 "nbformat": 4,
 "nbformat_minor": 5
}
