{
 "cells": [
  {
   "cell_type": "markdown",
   "id": "fe12c203-e6a6-452c-a655-afb8a03a4ff5",
   "metadata": {},
   "source": [
    "Demonstrate my familiarity with OpenAI API, and also Ollama, by building a tool that takes a technical question,  \n",
    "and responds with an explanation."
   ]
  },
  {
   "cell_type": "code",
   "execution_count": 1,
   "id": "c1070317-3ed9-4659-abe3-828943230e03",
   "metadata": {},
   "outputs": [],
   "source": [
    "# imports\n",
    "import ollama\n",
    "from dotenv import load_dotenv\n",
    "from IPython.display import Markdown, display, update_display\n",
    "from openai import OpenAI"
   ]
  },
  {
   "cell_type": "code",
   "execution_count": 2,
   "id": "4a456906-915a-4bfd-bb9d-57e505c5093f",
   "metadata": {},
   "outputs": [],
   "source": [
    "# constants\n",
    "\n",
    "MODEL_GPT = 'gpt-4o-mini'\n",
    "MODEL_LLAMA = 'llama3.2'"
   ]
  },
  {
   "cell_type": "code",
   "execution_count": 3,
   "id": "a8d7923c-5f28-4c30-8556-342d7c8497c1",
   "metadata": {},
   "outputs": [],
   "source": [
    "# set up environment\n",
    "load_dotenv()\n",
    "openai = OpenAI()"
   ]
  },
  {
   "cell_type": "code",
   "execution_count": 10,
   "id": "2b10f107-8828-4bf2-844a-c229d583ed11",
   "metadata": {},
   "outputs": [
    {
     "name": "stdin",
     "output_type": "stream",
     "text": [
      "Please enter your question: How can I reverse a string?\n"
     ]
    }
   ],
   "source": [
    "my_question = input(\"Please enter your question:\")"
   ]
  },
  {
   "cell_type": "code",
   "execution_count": 11,
   "id": "27357465-6f4d-4267-9ba9-78e0197f6a56",
   "metadata": {},
   "outputs": [],
   "source": [
    "system_prompt = \"You are a helpful technical tutor who answers questions about python code, software engineering, data science and LLMs\"\n",
    "user_prompt = \"Please give a detailed explanation to the following question: \" + my_question"
   ]
  },
  {
   "cell_type": "code",
   "execution_count": 12,
   "id": "a7286cd4-be8b-4d13-9c2a-9e127f703b6c",
   "metadata": {},
   "outputs": [],
   "source": [
    "messages = [\n",
    "    {\"role\": \"system\", \"content\": system_prompt},\n",
    "    {\"role\": \"user\", \"content\": user_prompt}\n",
    "]"
   ]
  },
  {
   "cell_type": "code",
   "execution_count": 13,
   "id": "60ce7000-a4a5-4cce-a261-e75ef45063b4",
   "metadata": {},
   "outputs": [
    {
     "data": {
      "text/markdown": [
       "Reversing a string is a common task in programming, and there are several methods to achieve this in Python. Here’s a detailed explanation of different approaches to reverse a string, along with examples.\n",
       "\n",
       "### Method 1: Slicing\n",
       "\n",
       "Python's slicing feature allows for a concise way to reverse a string. Slicing can be done with the syntax `string[start:stop:step]`. To reverse a string, you can set the step to `-1`.\n",
       "\n",
       "**Example:**\n",
       "python\n",
       "original_string = \"hello\"\n",
       "reversed_string = original_string[::-1]\n",
       "print(reversed_string)  # Output: \"olleh\"\n",
       "\n",
       "\n",
       "#### Explanation:\n",
       "- `original_string[::-1]`: Here, the slice starts from the end of the string and moves backward (because of the `-1` step).\n",
       "- If you don't specify `start` and `stop`, it takes the whole string.\n",
       "\n",
       "### Method 2: Using the `reversed()` Function\n",
       "\n",
       "Python provides a built-in `reversed()` function that returns an iterator that accesses the given string in the reverse order. You need to join the characters returned by this iterator to convert it back to a string.\n",
       "\n",
       "**Example:**\n",
       "python\n",
       "original_string = \"hello\"\n",
       "reversed_string = ''.join(reversed(original_string))\n",
       "print(reversed_string)  # Output: \"olleh\"\n",
       "\n",
       "\n",
       "#### Explanation:\n",
       "- `reversed(original_string)`: This function returns an iterator that goes through the string in reverse.\n",
       "- `''.join(...)`: The `join()` method combines the elements of the iterator into a new string.\n",
       "\n",
       "### Method 3: Using a Loop\n",
       "\n",
       "You can also reverse a string by manually iterating over it and building a new string one character at a time.\n",
       "\n",
       "**Example:**\n",
       "python\n",
       "original_string = \"hello\"\n",
       "reversed_string = ''\n",
       "for char in original_string:\n",
       "    reversed_string = char + reversed_string  # Prepend current character\n",
       "print(reversed_string)  # Output: \"olleh\"\n",
       "\n",
       "\n",
       "#### Explanation:\n",
       "- Here, for each character in `original_string`, you prepend it to `reversed_string`, effectively reversing the string as you build it.\n",
       "\n",
       "### Method 4: Using Recursion\n",
       "\n",
       "Although more complex, you can reverse a string using recursion.\n",
       "\n",
       "**Example:**\n",
       "python\n",
       "def reverse_string(s):\n",
       "    if len(s) == 0:\n",
       "        return s\n",
       "    else:\n",
       "        return s[-1] + reverse_string(s[:-1])\n",
       "\n",
       "original_string = \"hello\"\n",
       "reversed_string = reverse_string(original_string)\n",
       "print(reversed_string)  # Output: \"olleh\"\n",
       "\n",
       "\n",
       "#### Explanation:\n",
       "- The base case is when the string is empty. The recursion works by taking the last character `s[-1]` and adding it to the result of the reverse of the rest of the string `s[:-1]`.\n",
       "\n",
       "### Summary\n",
       "\n",
       "You can reverse a string using various methods in Python. The most common and efficient methods are slicing and the `reversed()` function with `join()`. The looping method is very intuitive, while recursion illustrates how the reversal can be conceptually approached as a problem of breaking it down into smaller parts. Choose the method that fits best with your coding style and performance requirements!"
      ],
      "text/plain": [
       "<IPython.core.display.Markdown object>"
      ]
     },
     "metadata": {},
     "output_type": "display_data"
    }
   ],
   "source": [
    "# gpt-4o-mini answer, with streaming\n",
    "stream = openai.chat.completions.create(model=MODEL_GPT, messages=messages,stream=True)\n",
    "    \n",
    "response = \"\"\n",
    "display_handle = display(Markdown(\"\"), display_id=True)\n",
    "for chunk in stream:\n",
    "    response += chunk.choices[0].delta.content or ''\n",
    "    response = response.replace(\"```\",\"\").replace(\"markdown\", \"\")\n",
    "    update_display(Markdown(response), display_id=display_handle.display_id)"
   ]
  },
  {
   "cell_type": "code",
   "execution_count": 14,
   "id": "8f7c8ea8-4082-4ad0-8751-3301adcf6538",
   "metadata": {},
   "outputs": [
    {
     "data": {
      "text/markdown": [
       "**Reversing a String in Python**\n",
       "=====================================\n",
       "\n",
       "There are several ways to reverse a string in Python. Here are some of the most common methods:\n",
       "\n",
       "### 1. Slicing Method\n",
       "\n",
       "The slicing method is one of the simplest ways to reverse a string in Python.\n",
       "\n",
       "```python\n",
       "def reverse_string(s):\n",
       "    return s[::-1]\n",
       "```\n",
       "\n",
       "This method uses Python's slice notation to extract the characters of the string in reverse order. The `::-1` part tells Python to start at the end of the string and move backwards to the beginning, stepping backwards by 1 character each time.\n",
       "\n",
       "### 2. Built-in Reverse Function\n",
       "\n",
       "Python has a built-in function called `reversed()` that can be used to reverse an iterable, such as a string.\n",
       "\n",
       "```python\n",
       "def reverse_string(s):\n",
       "    return ''.join(reversed(s))\n",
       "```\n",
       "\n",
       "This method works by using the `reversed()` function to create a reversed iterator over the characters of the string. The `''.join()` part then concatenates these characters back into a single string.\n",
       "\n",
       "### 3. Looping Method\n",
       "\n",
       "You can also reverse a string by looping over the characters in reverse order and building up a new string.\n",
       "\n",
       "```python\n",
       "def reverse_string(s):\n",
       "    reversed_s = ''\n",
       "    for i in range(len(s) - 1, -1, -1):\n",
       "        reversed_s += s[i]\n",
       "    return reversed_s\n",
       "```\n",
       "\n",
       "This method uses a for loop to iterate over the characters of the string in reverse order. The `range()` part generates a sequence of indices that starts at the end of the string and moves backwards to the beginning. The `+=` operator is used to build up the new string by appending each character to it.\n",
       "\n",
       "### 4. Recursion Method\n",
       "\n",
       "You can also reverse a string using recursion, although this method is generally less efficient than the others.\n",
       "\n",
       "```python\n",
       "def reverse_string(s):\n",
       "    if len(s) == 0:\n",
       "        return s\n",
       "    else:\n",
       "        return reverse_string(s[1:]) + s[0]\n",
       "```\n",
       "\n",
       "This method works by calling itself with the substring of `s` that starts at index 1, and then concatenating the first character of this substring to the result. The base case is when the string is empty, in which case it returns an empty string.\n",
       "\n",
       "### Example Use Case\n",
       "\n",
       "Here's an example of how you might use each of these methods:\n",
       "\n",
       "```python\n",
       "original_string = \"hello\"\n",
       "print(reverse_string(original_string))  # Output: olleh\n",
       "\n",
       "# Using slicing method\n",
       "sliced_reversed_string = original_string[::-1]\n",
       "print(sliced_reversed_string)  # Output: olleh\n",
       "\n",
       "# Using built-in reverse function\n",
       "reversed_string_builtin = ''.join(reversed(original_string))\n",
       "print(reversed_string_builtin)  # Output: olleh\n",
       "\n",
       "# Using looping method\n",
       "looped_reversed_string = ''\n",
       "for i in range(len(original_string) - 1, -1, -1):\n",
       "    looped_reversed_string += original_string[i]\n",
       "print(looped_reversed_string)  # Output: olleh\n",
       "\n",
       "# Using recursion method\n",
       "recursed_reversed_string = reverse_string(\"hello\")\n",
       "print(recursed_reversed_string)  # Output: olleh\n",
       "```\n",
       "\n",
       "In summary, the slicing method is generally the most concise and efficient way to reverse a string in Python. However, the built-in `reversed()` function can be useful when working with iterables that are not strings. The looping method can be helpful for understanding how string reversal works at a low level, while the recursion method can be used as an educational tool to teach the concept of recursive functions."
      ],
      "text/plain": [
       "<IPython.core.display.Markdown object>"
      ]
     },
     "metadata": {},
     "output_type": "display_data"
    }
   ],
   "source": [
    "# Llama 3.2 answer\n",
    "response = ollama.chat(model=MODEL_LLAMA, messages=messages)\n",
    "reply = response['message']['content']\n",
    "display(Markdown(reply))"
   ]
  }
 ],
 "metadata": {
  "kernelspec": {
   "display_name": "Python 3 (ipykernel)",
   "language": "python",
   "name": "python3"
  },
  "language_info": {
   "codemirror_mode": {
    "name": "ipython",
    "version": 3
   },
   "file_extension": ".py",
   "mimetype": "text/x-python",
   "name": "python",
   "nbconvert_exporter": "python",
   "pygments_lexer": "ipython3",
   "version": "3.11.10"
  }
 },
 "nbformat": 4,
 "nbformat_minor": 5
}
